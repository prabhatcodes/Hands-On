{
 "cells": [
  {
   "cell_type": "markdown",
   "metadata": {},
   "source": [
    "# Artificial Neural Networks with Keras\n",
    "\n",
    "An ANN is a Machine Learning model inspired by the networks of biological neurons found in our brains.\n",
    "But in reality, ANNs have gradually become quite different from their biological cousins.\n",
    "\n",
    "ANNs are the very core of Deep Learning. They are versatile, powerful and scalable, making them ideal to tackle large and highly complex tasks.\n",
    "\n",
    "### From Biological to Artificial Neurons\n",
    "\n",
    "1943: ANNs were introduced by a landmark paper, a Logical Calculus of Ideas Immanent in Nervous Activity. It presented a simplified computational model of how biological neurons might work together in animal brains to perform complex computations using propositional logic.\n",
    "\n",
    "ANNs will have a profound impact on our lives because:\n",
    "- Huge quantity of data available(ANNs outperform ML techniques on very large and complex problems)\n",
    "- Tremenduos increase in computing power makes it possible to train large neural networks in a reasonable amount of time.\n",
    "- Even small tewaks in training algorithms have improved them and had a huge positive impact.\n",
    "- Theoretical limitations of ANNs have turned out to be benign in practice.(People thought that ANNs will be stuck in local optima, but as it turns out, this is rather rare in practice and they are usually fairly close to the global optimum)\n",
    "- Products using ANNs garner more attention and have entered into a virtuous circle of funding and progress.\n",
    "\n",
    "### The Perceptron\n",
    "\n",
    "The Perceptron is one of the simplest ANN architectures, which is based on a slightly different artificial neuron called a threshold logic unit(TLU), or sometimes a linear threshold unit (LTU).\n",
    "\n",
    "The inputs and outputs are numbers instead of binary on-off values, and each input connection is associated with a weight. The TLU computes a weighed sum of its inputs, then applies a step function to that sum and outputs that result.\n",
    "\n",
    "Scikit-Learn provides a Perceptrom class which implements a single-TLU network:"
   ]
  },
  {
   "cell_type": "code",
   "execution_count": 1,
   "metadata": {},
   "outputs": [],
   "source": [
    "import numpy as np\n",
    "from sklearn.datasets import load_iris\n",
    "from sklearn.linear_model import Perceptron\n",
    "\n",
    "iris = load_iris()\n",
    "X = iris.data[:, (2, 3)] # petal length, petal width\n",
    "Y = (iris.target == 0).astype(np.int) # Iris setosa?\n",
    "per_clf = Perceptron()\n",
    "per_clf.fit(X, Y)\n",
    "Y_pred = per_clf.predict([[2, 0.5]])"
   ]
  },
  {
   "cell_type": "markdown",
   "metadata": {},
   "source": [
    "## Implementing MLPs with Keras\n",
    "\n",
    "Keras is a high-level Deep Learning API that allows us to easily build, train, evaluate and execute all sorts of neural networks.\n",
    "\n",
    "It is open source and gained quick popularity due to its ease of use, flexibiltity and beautiful design. It is used to perform heavy computations required by neural networks, and this reference implementation relies on a computation backend. At present we can choose from  3 popular open source Deep Learning libraries: TensorFlow, Microsoft Cognitive Toolkit, and Theano. \n",
    "\n",
    "Tensorflow itself comes with its own Keras implementation, tf.keras. It only supports TensorFloe as the backend, but it also provides some very useful extra features."
   ]
  },
  {
   "cell_type": "code",
   "execution_count": null,
   "metadata": {},
   "outputs": [],
   "source": []
  }
 ],
 "metadata": {
  "kernelspec": {
   "display_name": "Python 3",
   "language": "python",
   "name": "python3"
  },
  "language_info": {
   "codemirror_mode": {
    "name": "ipython",
    "version": 3
   },
   "file_extension": ".py",
   "mimetype": "text/x-python",
   "name": "python",
   "nbconvert_exporter": "python",
   "pygments_lexer": "ipython3",
   "version": "3.6.5"
  }
 },
 "nbformat": 4,
 "nbformat_minor": 4
}
